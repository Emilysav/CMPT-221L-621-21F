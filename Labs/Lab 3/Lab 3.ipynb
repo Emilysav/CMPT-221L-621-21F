{
 "cells": [
  {
   "cell_type": "markdown",
   "source": [
    "# Lab Three\n",
    "---\n",
    "\n",
    "Ok for this lab we're going to reiterate a lot of the things that we went over in class.\n",
    "\n",
    "Our Goals are:\n",
    "- Understanding Variable Types\n",
    "- Defining Variables\n",
    "- Using Conditionals\n",
    "- Using Loops\n",
    "- Creating Objects\n",
    "- Writing a function\n"
   ],
   "metadata": {}
  },
  {
   "cell_type": "markdown",
   "source": [
    "## What's the difference between Null and undefined?"
   ],
   "metadata": {}
  },
  {
<<<<<<< HEAD
   "cell_type": "code",
   "execution_count": null,
   "source": [
    "null has 4 letters and undefined has 9 "
   ],
   "outputs": [],
   "metadata": {}
  },
  {
   "cell_type": "code",
   "execution_count": null,
   "source": [
    "haha jk null is more so that there is no value on purpose, while undefined means there is no value for it at all, there is nothing "
   ],
   "outputs": [],
   "metadata": {}
  },
  {
=======
>>>>>>> upstream/main
   "cell_type": "markdown",
   "source": [
    "## List the 3 Variable Types and Use Them!"
   ],
   "metadata": {}
  },
  {
<<<<<<< HEAD
   "cell_type": "code",
   "execution_count": null,
   "source": [
    "Var, let, const "
   ],
   "outputs": [],
   "metadata": {}
  },
  {
   "cell_type": "code",
   "execution_count": null,
   "source": [
    "var = \"walk\";\n",
    "const = \"walk\";\n",
    "let = \"walk\";"
   ],
   "outputs": [],
   "metadata": {}
  },
  {
=======
>>>>>>> upstream/main
   "cell_type": "markdown",
   "source": [
    "## Use an If/Else If/Else Statement and a Switch Case statement"
   ],
   "metadata": {}
  },
  {
<<<<<<< HEAD
   "cell_type": "code",
   "execution_count": null,
   "source": [
    "let pumpkin = false;\n",
    "let apple = false;\n",
    "\n",
    "if (pumpkin) {\n",
    "    console.log(\"lets make pumpkin pie\");\n",
    "} else if (apple) {\n",
    "    console.log(\"Lets make apple\");\n",
    "} else (pumpkin && apple); {\n",
    "    console.log(\"lets make both\");\n",
    "}\n",
    "\n",
    "\n",
    "var starter = \"purple\";\n",
    "switch (starter) {\n",
    "    case \"lime green \":\n",
    "        console.log(\"Lime green is possibly the ulgiest color\");\n",
    "        break;\n",
    "    case \"orange\":\n",
    "        console.log(\"Orange is ok\");\n",
    "        break;\n",
    "    case \"pink\":\n",
    "        console.log(\"when perfection comes to mind I am sure the color pink does as well\");\n",
    "        break;\n",
    "\n",
    "    default:\n",
    "        console.log(\"I don't have a favorite color\");\n",
    "        break;\n",
    "}"
   ],
   "outputs": [],
   "metadata": {}
  },
  {
=======
>>>>>>> upstream/main
   "cell_type": "markdown",
   "source": [
    "## Use a For and a While Loop"
   ],
   "metadata": {}
  },
  {
<<<<<<< HEAD
   "cell_type": "code",
   "execution_count": null,
   "source": [
    "\n",
    "for (let i = 0; i < 37; i++) {\n",
    "    return i\n",
    "}\n",
    "\n",
    "while (stack.length != 0) {\n",
    "    console.log(stack.pop());\n",
    "}"
   ],
   "outputs": [],
   "metadata": {}
  },
  {
=======
>>>>>>> upstream/main
   "cell_type": "markdown",
   "source": [
    "## Make an object!"
   ],
   "metadata": {}
  },
  {
<<<<<<< HEAD
   "cell_type": "code",
   "execution_count": null,
   "source": [
    "let petDog = {\n",
    "    Name: \"Mitzy\",\n",
    "    Breed:  \"Chiuahua\",\n",
    "    nicknames: [\"meatball\", \"mouse\", \"breadloaf\", \"pretty girl\"],\n",
    "    age:       8,\n",
    "    ageInDogYears: 8 * 7,\n",
    "}\n",
    "console.log(petDog);"
   ],
   "outputs": [],
   "metadata": {}
  },
  {
=======
>>>>>>> upstream/main
   "cell_type": "markdown",
   "source": [
    "## Make a function, It can do anything!"
   ],
   "metadata": {}
  },
  {
<<<<<<< HEAD
   "cell_type": "code",
   "execution_count": null,
   "source": [
    "\n",
    "function toseconds(Number){\n",
    "    return Number*60 \n",
    "}\n",
    "\n",
    "console.log(\"there are\" + toseconds(6) + \"in 6 minutes\")"
   ],
   "outputs": [],
   "metadata": {}
  },
  {
=======
>>>>>>> upstream/main
   "cell_type": "markdown",
   "source": [
    "## Optional: Checkout HackerRank and try a problem in Javascript"
   ],
   "metadata": {}
<<<<<<< HEAD
  },
  {
   "cell_type": "code",
   "execution_count": null,
   "source": [],
   "outputs": [],
   "metadata": {}
=======
>>>>>>> upstream/main
  }
 ],
 "metadata": {
  "orig_nbformat": 4,
  "language_info": {
   "name": "javascript",
   "version": "10.22.0",
   "mimetype": "application/javascript",
   "file_extension": ".js"
  },
  "kernelspec": {
   "name": "javascript",
   "display_name": "Javascript (Node.js)",
   "language": "javascript"
  }
 },
 "nbformat": 4,
 "nbformat_minor": 2
}